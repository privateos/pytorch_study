{
 "cells": [
  {
   "cell_type": "markdown",
   "id": "99879c5e",
   "metadata": {},
   "source": [
    "\n",
    "torch.nn.Conv2d(in_channels, out_channels, kernel_size, stride=1, padding=’same‘, dilation=1, groups=1)"
   ]
  },
  {
   "cell_type": "markdown",
   "id": "1a6808ad",
   "metadata": {},
   "source": [
    "**1x1卷积**\n",
    "\n",
    "\n",
    "扩大感受野、增加非线性"
   ]
  },
  {
   "cell_type": "code",
   "execution_count": null,
   "id": "822f7eb7",
   "metadata": {},
   "outputs": [],
   "source": []
  },
  {
   "cell_type": "markdown",
   "id": "342d020b",
   "metadata": {},
   "source": [
    "**空洞卷积  dilation**\n",
    "\n",
    "\n",
    "升降维、捕获多尺度上下文信息"
   ]
  },
  {
   "cell_type": "code",
   "execution_count": null,
   "id": "734046c9",
   "metadata": {},
   "outputs": [],
   "source": []
  },
  {
   "cell_type": "markdown",
   "id": "f8417112",
   "metadata": {},
   "source": [
    "**深度可分离卷积 groups**\n",
    "\n",
    "\n",
    "#(b, m*n, H, W)#groups=m\n",
    "#(b, m, n, H, W)\n",
    "#(b, n, m, H, W)\n",
    "#(b, n*m, H, W)#groups =n\n",
    "\n",
    "x#(b, m, H, W)\n",
    "conv1 = nn.Conv2d(m*n, m*n, kernel_size, padding='same', groups=m)\n",
    "x1 = relu(conv1(x))#(b, m*n, H, W)\n",
    "conv2 = nn.Conv2d(m*n, m*n, kernel_size, xx, groups=n)\n",
    "x2 = torch.transpose(x1, 0, 1)\n",
    "\n",
    "x3 = conv2(x2)"
   ]
  },
  {
   "cell_type": "code",
   "execution_count": null,
   "id": "3e870f13",
   "metadata": {},
   "outputs": [],
   "source": []
  },
  {
   "cell_type": "markdown",
   "id": "f5f44be9",
   "metadata": {},
   "source": [
    "**加注意力机制**\n",
    "\n",
    "\n",
    "每个卷积层后可加入"
   ]
  },
  {
   "cell_type": "code",
   "execution_count": 2,
   "id": "2a08be87",
   "metadata": {},
   "outputs": [],
   "source": [
    "import torch\n",
    "import torch.nn as nn\n",
    "class SELayer(nn.Module):\n",
    "    def __init__(self, channels: int) -> None:\n",
    "        super(SELayer, self).__init__()\n",
    "        self.seq = nn.Sequential(\n",
    "            #(b, channels, 1, 1)\n",
    "            nn.Conv2d(channels, channels, kernel_size=1),\n",
    "            nn.Sigmoid(),\n",
    "            #(b, channel, 1, 1)\n",
    "        )\n",
    "    def forward(self, x: torch.Tensor) -> torch.Tensor:\n",
    "        b, channel, H, W = x.size()\n",
    "        x1 = torch.max_pool2d(x, kernel_size=(H, W))\n",
    "        x2 = self.seq(x1)\n",
    "        return x*x2"
   ]
  },
  {
   "cell_type": "code",
   "execution_count": null,
   "id": "f7eba7d3",
   "metadata": {},
   "outputs": [],
   "source": []
  }
 ],
 "metadata": {
  "kernelspec": {
   "display_name": "Python 3 (ipykernel)",
   "language": "python",
   "name": "python3"
  },
  "language_info": {
   "codemirror_mode": {
    "name": "ipython",
    "version": 3
   },
   "file_extension": ".py",
   "mimetype": "text/x-python",
   "name": "python",
   "nbconvert_exporter": "python",
   "pygments_lexer": "ipython3",
   "version": "3.9.7"
  }
 },
 "nbformat": 4,
 "nbformat_minor": 5
}
