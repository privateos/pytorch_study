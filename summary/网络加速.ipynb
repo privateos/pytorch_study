{
 "cells": [
  {
   "cell_type": "markdown",
   "id": "d9882f52",
   "metadata": {},
   "source": [
    "网络加速总结\n",
    "1. 多个矩阵乘法然后相加可以转换为一个矩阵乘法\n",
    "2. 同一个输入应用多次矩阵乘法产生多个输出：一次矩阵乘法，分割输出矩阵\n"
   ]
  },
  {
   "cell_type": "markdown",
   "id": "c0ba7b7d",
   "metadata": {},
   "source": [
    "**1）多个矩阵乘法相加：可以拼接起来，合并成一次矩阵乘法**\n",
    "\n",
    "$z = xW + yU + b$\n",
    "\n",
    "$x\\in R^{b\\times m}$\n",
    "$W\\in R^{m\\times n}$\n",
    "$y\\in R^{b\\times p}$\n",
    "$U\\in R^{p\\times n}$\n",
    "$b\\in R^{n}$\n",
    "$z\\in R^{b\\times n}$\n",
    "\n",
    "拼接向量\n",
    "\n",
    "$a=[x, y]\\in R^{b\\times(m + p)}$\n",
    "\n",
    "$A=[W, U]\\in R^{(m+p)\\times n}$\n",
    "\n",
    "$z = aA + b$"
   ]
  },
  {
   "cell_type": "markdown",
   "id": "7af86563",
   "metadata": {},
   "source": []
  },
  {
   "cell_type": "markdown",
   "id": "c944a9de",
   "metadata": {},
   "source": [
    "**2）同一个输入生成多个输出**\n",
    "\n",
    "$M_1=AB$\n",
    "\n",
    "$M_2=AC$\n",
    "\n",
    "$A\\in R^{m\\times n}$\n",
    "$B\\in R^{n\\times p_{1}}$\n",
    "$C\\in R^{n\\times p_{2}}$\n",
    "$M_{1}\\in R^{m\\times p_1}$\n",
    "$M_{2}\\in R^{m\\times p_2}$\n",
    "\n",
    "拼接$D=[B,C]\\in R^{n\\times(p_1+p2)}$\n",
    "\n",
    "$M=AD\\in R^{m\\times(p_1+p_2)}$"
   ]
  },
  {
   "cell_type": "code",
   "execution_count": 9,
   "id": "37be4fac",
   "metadata": {},
   "outputs": [
    {
     "name": "stdout",
     "output_type": "stream",
     "text": [
      "torch.Size([3, 6])\n",
      "torch.Size([3, 1]) torch.Size([3, 2]) torch.Size([3, 3])\n"
     ]
    }
   ],
   "source": [
    "import torch\n",
    "a = torch.randn(3, 6)\n",
    "print(a.shape)\n",
    "c, d, e = torch.split(a, [1, 2, 3], dim=1)\n",
    "print(c.shape, d.shape, e.shape)"
   ]
  },
  {
   "cell_type": "code",
   "execution_count": null,
   "id": "401bff33",
   "metadata": {},
   "outputs": [],
   "source": []
  }
 ],
 "metadata": {
  "kernelspec": {
   "display_name": "Python 3 (ipykernel)",
   "language": "python",
   "name": "python3"
  },
  "language_info": {
   "codemirror_mode": {
    "name": "ipython",
    "version": 3
   },
   "file_extension": ".py",
   "mimetype": "text/x-python",
   "name": "python",
   "nbconvert_exporter": "python",
   "pygments_lexer": "ipython3",
   "version": "3.9.7"
  }
 },
 "nbformat": 4,
 "nbformat_minor": 5
}
